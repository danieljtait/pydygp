{
  "cells": [
    {
      "cell_type": "code",
      "execution_count": null,
      "metadata": {
        "collapsed": false
      },
      "outputs": [],
      "source": [
        "%matplotlib inline"
      ]
    },
    {
      "cell_type": "markdown",
      "metadata": {},
      "source": [
        "\nIntroduction to the LFM Mix Model\n=================================\n\n"
      ]
    },
    {
      "cell_type": "code",
      "execution_count": null,
      "metadata": {
        "collapsed": false
      },
      "outputs": [],
      "source": [
        "import numpy as np\nimport matplotlib.pyplot as plt\nfrom pydygp.linlatentforcemodels import MLFMMixSA\nfrom sklearn.gaussian_process.kernels import RBF\nfrom pydygp.liealgebras import so\nnp.set_printoptions(precision=3, suppress=True)\n\nmlfm = MLFMMixSA(so(3), R=1, order=1, lf_kernels=[RBF(), ])\n\nx0 = np.eye(3)  # initial conditions the std. basis vectors of R3\nN_outputs = 3\n\nbeta = np.random.normal(size=6).reshape(2, 3)\nbeta /= np.linalg.norm(beta, axis=1)[:, None]\n\ntt = np.linspace(0., 2., 25)\n\nData, gtrue = mlfm.sim(x0, tt, beta=beta, size=N_outputs)\n\nmlfm._setup_times([tt]*N_outputs, h=None)\n\n# set the fixed points\n_ifix = np.linspace(0, tt.size-1, 5, dtype=np.intp)[1:-1]\nifix = [mlfm.data_inds[0][i] for i in _ifix]\n\nfor _ifx, ifx in zip(_ifix, ifix):\n    \n    initval = np.array([y[_ifx, :] for y in Data])\n    \n    layer = mlfm._forward(gtrue[0](mlfm.ttc),\n                          beta, initval, ifx)\n\n    fig, ax = plt.subplots()\n    ax.plot(mlfm.ttc, layer[..., 0], 'k-', alpha=0.3)\n    ax.plot(tt, Data[0], 's')\n    ax.set_ylim((-1.1, 1.1))\n\nplt.show()"
      ]
    }
  ],
  "metadata": {
    "kernelspec": {
      "display_name": "Python 3",
      "language": "python",
      "name": "python3"
    },
    "language_info": {
      "codemirror_mode": {
        "name": "ipython",
        "version": 3
      },
      "file_extension": ".py",
      "mimetype": "text/x-python",
      "name": "python",
      "nbconvert_exporter": "python",
      "pygments_lexer": "ipython3",
      "version": "3.7.0"
    }
  },
  "nbformat": 4,
  "nbformat_minor": 0
}