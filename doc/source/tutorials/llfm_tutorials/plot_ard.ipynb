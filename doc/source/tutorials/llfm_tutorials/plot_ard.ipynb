{
  "cells": [
    {
      "cell_type": "code",
      "execution_count": null,
      "metadata": {
        "collapsed": false
      },
      "outputs": [],
      "source": [
        "%matplotlib inline"
      ]
    },
    {
      "cell_type": "markdown",
      "metadata": {},
      "source": [
        "\nAutomatic Relevance Determination\n=================================\n\n"
      ]
    },
    {
      "cell_type": "code",
      "execution_count": null,
      "metadata": {
        "collapsed": false
      },
      "outputs": [],
      "source": [
        "import numpy as np\nimport matplotlib.pyplot as plt\nimport pydygp.liealgebras\nfrom pydygp.linlatentforcemodels import MLFMAdapGrad\nfrom sklearn.gaussian_process.kernels import RBF\nfrom scipy.integrate import odeint\nnp.random.seed(9)"
      ]
    },
    {
      "cell_type": "markdown",
      "metadata": {},
      "source": [
        "We are going to set up two latent force models, the first is the simple\nrandom harmonic oscillator on $\\mathbb{R}^2$ which we have discussed in\nprevious tutorials and we recall is given by the ODE $\\dot{X}(t) = A(t)X(t)$\nwith\n\n\\begin{align}\\begin{bmatrix} 0 & -g_1(t) \\\\ g_1(t) \\\\ \\end{bmatrix}.\\end{align}\n\nWe then extend this model, we are also going to make the force $g_2(t)$\na small so that model two provides a small pertubation of the original model\n(this is not necessary for fitting but will make visualisation here more\nappealing).\n\n"
      ]
    },
    {
      "cell_type": "code",
      "execution_count": null,
      "metadata": {
        "collapsed": false
      },
      "outputs": [],
      "source": [
        "so2 = pydygp.liealgebras.so(2)\nI = np.eye(2)\n\n\nk1 = 1*RBF()\n\neps = 5e-1\nk2 = eps*RBF()\n\nmlfm1 = MLFMAdapGrad(so2, lf_kernels=(k1, ))\nmlfm2 = MLFMAdapGrad((*so2, I), lf_kernels=(k1, k2))\n\ntt = np.linspace(0., 7., 100)\n\nY1, gf = mlfm1.sim([1., 0.], tt)\n#Y2, gf = mlfm2.sim([1., 0.], tt)\n\ng2 = lambda t: np.cos(2*np.pi*t)\ndef dXdt(X, t):\n    At = so2[0]*gf[0](t) + g2(t)*I\n    return At.dot(X)\n\ninds = np.linspace(0, tt.size-1, 10, dtype=np.intp)\nY2 = odeint(dXdt, [1., 0.], tt)\n\nfig, ax = plt.subplots()\nax.plot(*Y1.T, '-', alpha=0.5, label='model 1')\nax.plot(*Y2.T, '-', alpha=0.5, label='model 2')\nax.legend()\nax.set_aspect('equal')\n\nplt.show()"
      ]
    }
  ],
  "metadata": {
    "kernelspec": {
      "display_name": "Python 3",
      "language": "python",
      "name": "python3"
    },
    "language_info": {
      "codemirror_mode": {
        "name": "ipython",
        "version": 3
      },
      "file_extension": ".py",
      "mimetype": "text/x-python",
      "name": "python",
      "nbconvert_exporter": "python",
      "pygments_lexer": "ipython3",
      "version": "3.6.5"
    }
  },
  "nbformat": 4,
  "nbformat_minor": 0
}