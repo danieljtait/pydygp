{
  "cells": [
    {
      "cell_type": "code",
      "execution_count": null,
      "metadata": {
        "collapsed": false
      },
      "outputs": [],
      "source": [
        "%matplotlib inline"
      ]
    },
    {
      "cell_type": "markdown",
      "metadata": {},
      "source": [
        "\n\n\nBasic MAP Estimation\n====================\n\n.. currentmodule:: pydygp.linlatentforcemodels\n\nThis note descibes how to simulate observations from the MLFM model, as\nwell as the process of carrying out MAP parameter estimation for the MLFM\nusing the Adaptive Gradient matching approximation. This uses the\n:class:`MLFMAdapGrad` object and so our first step is to import this object.\n\n\n"
      ]
    },
    {
      "cell_type": "code",
      "execution_count": null,
      "metadata": {
        "collapsed": false
      },
      "outputs": [],
      "source": [
        "import numpy as np\nimport matplotlib.pyplot as plt\nfrom pydygp.linlatentforcemodels import MLFMAdapGrad\nfrom sklearn.gaussian_process.kernels import RBF\nnp.random.seed(17)"
      ]
    },
    {
      "cell_type": "markdown",
      "metadata": {},
      "source": [
        "Model Setup\n~~~~~~~~~~~\n\nTo begin we are going to demonstate the MLFM by simulating an ODE on the unit\nsphere\n\n\\begin{align}S^{2} = \\{ x \\in \\mathbb{R}^3 \\; : \\; \\| x \\| = 1 \\}.\\end{align}\n\nThe model will be given by the initial value problem\n\n\\begin{align}\\dot{\\mathbf{x}}(t) = \\mathbf{A}(t) \\mathbf{x}(t),\n    \\qquad \\mathbf{x}_0 \\in S^2,\\end{align}\n\nwhere the coefficient matrix, $\\mathbf{A}(t)$, is supported on the Lie\nalgebra $\\mathfrak{so}(3)$. We do this by chosing a basis for the Lie\nalgebra and then representing each of the structure matrices as a linear combination\nof these basis matrices using the coefficients $\\beta_{rd}$ leading to a\nrepresentation of the coefficient matrix\n\n\\begin{align}\\mathbf{A}(t) = \\sum_{d=0}^3 \\beta_{0d}\\mathbf{L}_d +\n    \\sum_{r=1}^R g_r(t) \\sum_{d=1}^3 \\beta_{rd}\\mathbf{L}_d,\\end{align}\n\nwhere $\\{\\mathbf{L}_d \\}$ is a basis of the Lie algebra\n$\\mathfrak{so}(3)$. And the collection $\\{ g_r(t) \\}_{r=1}^{R}$\nare a set of smooth Gaussian processes. To construct this model in the\n:py:obj:`pydygp` package we provide the :class:`pydygp.liealgebras.so` class\nwhich can be used to return basis elements of the Lie algebras of the special\northogonal group $SO(n)$. For example if we import and call\n:py:obj:`so(3)` we get the following output\n\n"
      ]
    },
    {
      "cell_type": "code",
      "execution_count": null,
      "metadata": {
        "collapsed": false
      },
      "outputs": [],
      "source": [
        "from pydygp.liealgebras import so\nfor d, item in enumerate(so(3)):\n    print(''.join(('\\n', 'L{}'.format(d+1))))\n    print(item)"
      ]
    },
    {
      "cell_type": "markdown",
      "metadata": {},
      "source": [
        "Having imported the basis matrices for the Lie algebra we also need to\nchoose how many latent forces we want the model to have, for this example\nwe are going to consider a single latent forces with RBF kernel. We can\nthen construct the :class:`MLFMAdapGrad` object\n\n"
      ]
    },
    {
      "cell_type": "code",
      "execution_count": null,
      "metadata": {
        "collapsed": false
      },
      "outputs": [],
      "source": [
        "# Tuple of kernel objects for the latent forces, for r=1,..., R\nlf_kernels = (RBF(), )\n\n# construct the MLFM object\nmlfm = MLFMAdapGrad(so(3), R=1, lf_kernels=lf_kernels)"
      ]
    },
    {
      "cell_type": "markdown",
      "metadata": {},
      "source": [
        "Simulation\n~~~~~~~~~~\nTo simulate from the model we need to chose the set of coefficients\n$\\beta_{r, d}$. We will consider the model with a single latent\nforcing function, and randomly generate the variables $beta$.\n\nFor this example we are going to consider the case with a known latent\nforce function given by\n\n\\begin{align}g_1(t) = \\cos(t) e^{-(t-2)^2}\\end{align}\n\nwhich is the modulation of a cosine signal by a RBF. To simulate we\nmust pass the initial conditions :py:obj:`x0`, the time points\n:py:obj`tt` and the parameters :py:obj:`beta` to the\n:func:`MLFMAdapGrad.sim` method. We can\nalso optionally supply our known latent forces through the\n:code:`latent_forces` key word argument which accepts a list, or tuple,\nof length R.\n\nThe method uses the :class:`odeint` class in scipy to perform the\nnumerical simulation of the model, and so we can demonstrate they\ngive equivalent results by also getting the solution using scipy\n\nWe also draw attention to the return type of :func:`MLFMAdapGrad.sim`\nwhich when the key word is supplied as :code:`size = M`\nwith :code:`M > 2` will result in the simulated observations being\nreturned as a tuple $(Y^{(1)},\\ldots,Y^{(M)})$ where\neach $Y^{(i)}$ is an $N \\times K$ array.\n\n"
      ]
    },
    {
      "cell_type": "code",
      "execution_count": null,
      "metadata": {
        "collapsed": false
      },
      "outputs": [],
      "source": [
        "# Construct the known latent force \ng = lambda t: np.exp(-(t-2)**2) * np.cos(t)  # single latent force\n\n# Simulate the R x D matrix beta\nbeta = np.random.randn(2, 3)  \n\n# Initial conditions are given by :math:`\\mathbf{e}_i` for\n# :math:`i=1, 2, 3`.\nx0 = np.eye(3)\n\n# The structure matrices as linear combinations of the basis matrices\nA = [sum(brd*Ld for brd, Ld in zip(br, so(3)))\n     for br in beta]\n\n# dense time vector \nttd = np.linspace(0., 5., 100)\n\n# solution using Scipy odeint\nfrom scipy.integrate import odeint\nscipy_sol = odeint(lambda x, t: (A[0] + g(t)*A[1]).dot(x),\n                   x0[0, :],\n                   ttd)\n\n# solution using MLFMAdapGrad.sim \n\n# downsample\ntt = ttd[::10]\nData, _ = mlfm.sim(x0, tt, beta=beta, latent_forces=(g, ), size=3)\n\nfig, ax = plt.subplots()\nfor xk, yk in zip(scipy_sol.T[:-1], Data[0].T[:-1]):\n    ax.plot(ttd, xk, 'k-', alpha=0.3)\n    ax.plot(tt, yk, 'C0o')\nax.plot(ttd, scipy_sol[:, -1], 'k-', alpha=0.3, label='scipy odeint')\nax.plot(tt, Data[0][:, -1], 'C0o', label='MLFMAdapGrad.sim')\nax.set_xlabel('Time')\nax.legend()"
      ]
    },
    {
      "cell_type": "markdown",
      "metadata": {},
      "source": [
        "Latent Force Estimation\n~~~~~~~~~~~~~~~~~~~~~~~\n\n"
      ]
    },
    {
      "cell_type": "code",
      "execution_count": null,
      "metadata": {
        "collapsed": false
      },
      "outputs": [],
      "source": [
        "Y = np.column_stack(y.T.ravel() for y in Data)\nres = mlfm.fit(tt, Y, beta0 = beta, beta_is_fixed=True)\n\n# predict the lf using the Laplace approximation\nEg, SDg = mlfm.predict_lf(ttd, return_std=True)\n\n# sphinx_gallery_thumbnail_number = 2\nfig2, ax = plt.subplots()\nax.plot(ttd, g(ttd), 'k-', alpha=0.8)\nax.plot(tt, res.g.T, 'o')\nfor Egr, SDgr in zip(Eg, SDg):\n    ax.fill_between(ttd,\n                    Egr + 2*SDgr, Egr - 2*SDgr,\n                    alpha=0.5)\n\nplt.show()"
      ]
    }
  ],
  "metadata": {
    "kernelspec": {
      "display_name": "Python 3",
      "language": "python",
      "name": "python3"
    },
    "language_info": {
      "codemirror_mode": {
        "name": "ipython",
        "version": 3
      },
      "file_extension": ".py",
      "mimetype": "text/x-python",
      "name": "python",
      "nbconvert_exporter": "python",
      "pygments_lexer": "ipython3",
      "version": "3.7.0"
    }
  },
  "nbformat": 4,
  "nbformat_minor": 0
}