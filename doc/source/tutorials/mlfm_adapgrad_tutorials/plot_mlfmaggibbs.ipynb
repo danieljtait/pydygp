{
  "cells": [
    {
      "cell_type": "code",
      "execution_count": null,
      "metadata": {
        "collapsed": false
      },
      "outputs": [],
      "source": [
        "%matplotlib inline"
      ]
    },
    {
      "cell_type": "markdown",
      "metadata": {},
      "source": [
        "\nGibbs Sampling\n==============\n\nThis example presents an illustration of the MLFM to learn the model\n\n\\begin{align}\\dot{\\mathbf{x}}(t)\\end{align}\n\nWe do the usual imports and generate some simulated data\n\n"
      ]
    },
    {
      "cell_type": "code",
      "execution_count": null,
      "metadata": {
        "collapsed": false
      },
      "outputs": [],
      "source": [
        "import numpy as np\nimport matplotlib.pyplot as plt\nfrom pydygp.probabilitydistributions import (Normal,\n                                             GeneralisedInverseGaussian,\n                                             InverseGamma)\nfrom sklearn.gaussian_process.kernels import RBF\nfrom pydygp.liealgebras import so\nfrom pydygp.linlatentforcemodels import GibbsMLFMAdapGrad\n\nnp.random.seed(15)\n\n\ngmlfm = GibbsMLFMAdapGrad(so(3), R=1, lf_kernels=(RBF(), ))\n\nbeta = np.row_stack(([0.]*3,\n                     np.random.normal(size=3)))\n\nx0 = np.eye(3)\n\n# Time points to solve the model at\ntt = np.linspace(0., 6., 7)\n\n# Data and true forces\nData, lf = gmlfm.sim(x0, tt, beta=beta, size=3)\n\n# vectorise and stack the data\nY = np.column_stack((y.T.ravel() for y in Data))\n\nlogpsi_prior = GeneralisedInverseGaussian(a=5, b=5, p=-1).logtransform()\nloggamma_prior = InverseGamma(a=0.001, b=0.001).logtransform() * gmlfm.dim.K\nbeta_prior = Normal(scale=1.) * beta.size\n\nfitopts = {'logpsi_is_fixed': False, 'logpsi_prior': logpsi_prior,\n           'loggamma_is_fixed': False, 'loggamma_prior': loggamma_prior,\n           'beta_is_fixed': False, 'beta_prior': beta_prior\n           }\n\n#gibbsRV = gmlfm.gibbsfit(tt, Y, **fitopts)"
      ]
    }
  ],
  "metadata": {
    "kernelspec": {
      "display_name": "Python 3",
      "language": "python",
      "name": "python3"
    },
    "language_info": {
      "codemirror_mode": {
        "name": "ipython",
        "version": 3
      },
      "file_extension": ".py",
      "mimetype": "text/x-python",
      "name": "python",
      "nbconvert_exporter": "python",
      "pygments_lexer": "ipython3",
      "version": "3.7.0"
    }
  },
  "nbformat": 4,
  "nbformat_minor": 0
}