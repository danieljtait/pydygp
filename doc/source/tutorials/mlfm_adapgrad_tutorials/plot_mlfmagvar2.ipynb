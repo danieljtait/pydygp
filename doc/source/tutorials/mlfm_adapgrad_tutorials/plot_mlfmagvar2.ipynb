{
  "cells": [
    {
      "cell_type": "code",
      "execution_count": null,
      "metadata": {
        "collapsed": false
      },
      "outputs": [],
      "source": [
        "%matplotlib inline"
      ]
    },
    {
      "cell_type": "markdown",
      "metadata": {},
      "source": [
        "\nVariational Inference\n=====================\n\n"
      ]
    },
    {
      "cell_type": "code",
      "execution_count": null,
      "metadata": {
        "collapsed": false
      },
      "outputs": [],
      "source": [
        "import numpy as np\nimport matplotlib.pyplot as plt\nfrom pydygp.probabilitydistributions import (Normal,\n                                             GeneralisedInverseGaussian,\n                                             Gamma)\nfrom sklearn.gaussian_process.kernels import RBF\nfrom pydygp.liealgebras import so\nfrom pydygp.linlatentforcemodels import VarMLFMAdapGrad\n                                             \nnp.random.seed(17)\nnp.set_printoptions(precision=3, suppress=True)\n\nmlfm = VarMLFMAdapGrad(so(3), R=1, lf_kernels=(RBF(), ))\n\nbeta = np.row_stack(([0.]*3,\n                     np.random.normal(size=3)))\n\nx0 = np.eye(3)\n\n# Time points to solve the model at\ntt = np.linspace(0., 6., 9)\n\n# Data and true forces\nData, lf = mlfm.sim(x0, tt, beta=beta, size=3)\n\n# vectorise and stack the data\nY = np.column_stack((y.T.ravel() for y in Data))\n\nlogpsi_prior = GeneralisedInverseGaussian(a=5, b=5, p=-1).logtransform()\nloggamma_prior = Gamma(a=2.00, b=10.0).logtransform() * mlfm.dim.K\nbeta_prior = Normal(scale=1.) * beta.size\n\nfitopts = {'logpsi_is_fixed': True, 'logpsi_prior': logpsi_prior,\n           'logphi_is_fixed': False,\n           'g0': lf[0](tt),\n           'loggamma_is_fixed': False, 'loggamma_prior': loggamma_prior,\n           'beta_is_fixed': True, 'beta_prior': beta_prior,\n           'beta0': beta,\n           }\n\nmapres, Eg, Covg, Eb, Covb = mlfm.varfit(tt, Y, **fitopts)\nprint(mapres.logphi)\nprint(mapres.loggamma)\n\nttd = np.linspace(tt[0], tt[-1], 100)\naaTrue = mlfm._component_functions(lf[0](ttd), beta, N=ttd.size)\naaMap = mlfm._component_functions(mapres.g, mapres.beta)\nEaa = mlfm._component_functions(Eg, Eb)\n\nfig, ax = plt.subplots()\ninds = [(0, 1), (0, 2), (1, 2)]\nfor ind in inds:\n    i, j = ind\n    ax.plot(ttd, aaTrue[i, j, :], '-')\n    ax.plot(tt, Eaa[i, j, :], '+')\n    ax.plot(tt, aaMap[i, j, :], 's')\n\n\nfrom scipy.interpolate import interp1d\nlfhat = interp1d(tt, mapres.g.ravel(), kind='cubic', fill_value='extrapolate')\n\nfor m in range(3):\n\n    sol, _ = mlfm.sim(x0[m, :], ttd, mapres.beta, latent_forces=(lfhat,))\n\n    fig, ax = plt.subplots()\n    ax.plot(ttd, sol, 'k-', alpha=0.5)\n    ax.plot(tt, Data[m], 's')\n\nplt.show()"
      ]
    }
  ],
  "metadata": {
    "kernelspec": {
      "display_name": "Python 3",
      "language": "python",
      "name": "python3"
    },
    "language_info": {
      "codemirror_mode": {
        "name": "ipython",
        "version": 3
      },
      "file_extension": ".py",
      "mimetype": "text/x-python",
      "name": "python",
      "nbconvert_exporter": "python",
      "pygments_lexer": "ipython3",
      "version": "3.7.0"
    }
  },
  "nbformat": 4,
  "nbformat_minor": 0
}