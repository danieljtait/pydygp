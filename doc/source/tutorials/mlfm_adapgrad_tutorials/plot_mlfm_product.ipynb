{
  "cells": [
    {
      "cell_type": "code",
      "execution_count": null,
      "metadata": {
        "collapsed": false
      },
      "outputs": [],
      "source": [
        "%matplotlib inline"
      ]
    },
    {
      "cell_type": "markdown",
      "metadata": {},
      "source": [
        "\n\nProduct Topology of MLFM Models\n===============================\n\nThis note demonstrates the use of the :py:obj:`*` operator\nto construct the Cartesian product of MLFM models. The\nidea is to combine MLFM with distinct topologies, but a\ncommon set of latent forces.\n\n<div class=\"alert alert-info\"><h4>Note</h4><p>Still in development -- working out the most natural way of calling fit on the\n   product object. So far all of this note does it demonstrate that the product\n   operator now gathers the MLFM objects up nicely and provides a nice method\n   for flattening them back out.</p></div>\n\n\n"
      ]
    },
    {
      "cell_type": "code",
      "execution_count": null,
      "metadata": {
        "collapsed": false
      },
      "outputs": [],
      "source": [
        "from pydygp.liealgebras import so\nfrom pydygp.linlatentforcemodels import MLFMAdapGrad\nfrom sklearn.gaussian_process.kernels import RBF\n\nmlfm1 = MLFMAdapGrad(so(2), R=1, lf_kernels=[RBF(), ])\nmlfm2 = MLFMAdapGrad(so(3), R=1, lf_kernels=[RBF(), ])\nmlfm3 = MLFMAdapGrad(so(4), R=1, lf_kernels=[RBF(), ])\n\nmmlfm = mlfm1 * mlfm2\nmmlfm = mmlfm * mlfm3\n\nmlfms = mmlfm.flatten()\nfor item in mlfms:\n    print(hasattr(item, 'fit'), item.dim.D)\n\n\nfitopts = {'loggamma_is_fixed': True}\n\nis_fixed_vars = mmlfm._fit_kwarg_parser(len(mlfms), **fitopts)\nprint(is_fixed_vars)"
      ]
    }
  ],
  "metadata": {
    "kernelspec": {
      "display_name": "Python 3",
      "language": "python",
      "name": "python3"
    },
    "language_info": {
      "codemirror_mode": {
        "name": "ipython",
        "version": 3
      },
      "file_extension": ".py",
      "mimetype": "text/x-python",
      "name": "python",
      "nbconvert_exporter": "python",
      "pygments_lexer": "ipython3",
      "version": "3.7.0"
    }
  },
  "nbformat": 4,
  "nbformat_minor": 0
}