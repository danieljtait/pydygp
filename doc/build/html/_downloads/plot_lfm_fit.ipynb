{
  "cells": [
    {
      "cell_type": "code",
      "execution_count": null,
      "metadata": {
        "collapsed": false
      },
      "outputs": [],
      "source": [
        "%matplotlib inline"
      ]
    },
    {
      "cell_type": "markdown",
      "metadata": {},
      "source": [
        "\n\n# Latent Force Models\n\n\n\n"
      ]
    },
    {
      "cell_type": "code",
      "execution_count": null,
      "metadata": {
        "collapsed": false
      },
      "outputs": [],
      "source": [
        "import numpy as np\nimport matplotlib.pyplot as plt\nfrom pydygp.kernels import LFMOrder2Kernel, WhiteKernel\nfrom pydygp.gaussian_process import MultioutGaussianProcessRegressor\n\nC = [-0.2, 0.4]   # \nD = [1.65, .7]    # \nS = [-.25, .5]    # vectorisation of sensitivity matrix\n\n# lfm kernel + direct sum of white noise kernels for each dimension\nkernel = LFMOrder2Kernel(C=C, D=D, S=S) + \\\n         WhiteKernel(1e-3) @ WhiteKernel(1e-2)\n\n# some time points\ntt = np.linspace(0.1, 5., 5)\n\n# construct the GP Regression model\nlfm = MultioutGaussianProcessRegressor(kernel)\n\n# Sample from it...\ny = lfm.sample_y(tt[:, None], n_samples=1, random_state=2)\n\n# ... and then fit\nlfm.fit(tt[:, None], y)\n\n# dense set of time points\nss = np.linspace(0., tt[-1])\nEy, SDy = lfm.predict(ss[:, None], return_std=True)\n\n# Unvectorise the output\nEy = Ey.reshape(2, ss.size).T\nSDy = SDy.reshape(2, ss.size).T\n\nfig, ax = plt.subplots()\nfor i in range(2):\n    ax.fill_between(ss, Ey[:, i] + 2*SDy[:, i], Ey[:, i] - 2*SDy[:, i],\n                    alpha=0.5)\n    ax.plot(ss, Ey[:, i], 'k--')\nax.plot(tt, y.reshape(2, tt.size).T, 's')\n\nplt.show()"
      ]
    }
  ],
  "metadata": {
    "kernelspec": {
      "display_name": "Python 3",
      "language": "python",
      "name": "python3"
    },
    "language_info": {
      "codemirror_mode": {
        "name": "ipython",
        "version": 3
      },
      "file_extension": ".py",
      "mimetype": "text/x-python",
      "name": "python",
      "nbconvert_exporter": "python",
      "pygments_lexer": "ipython3",
      "version": "3.7.0"
    }
  },
  "nbformat": 4,
  "nbformat_minor": 0
}