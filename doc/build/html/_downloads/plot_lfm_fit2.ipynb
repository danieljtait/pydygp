{
  "cells": [
    {
      "cell_type": "code",
      "execution_count": null,
      "metadata": {
        "collapsed": false
      },
      "outputs": [],
      "source": [
        "%matplotlib inline"
      ]
    },
    {
      "cell_type": "markdown",
      "metadata": {},
      "source": [
        "\n\n# Latent Force Models 2\n\n\n\n\n"
      ]
    },
    {
      "cell_type": "code",
      "execution_count": null,
      "metadata": {
        "collapsed": false
      },
      "outputs": [],
      "source": [
        "import numpy as np\nimport matplotlib.pyplot as plt\nfrom scipy.linalg import cholesky, cho_solve\nfrom sklearn.gaussian_process.kernels import RBF\nfrom pydygp.kernels import LFMOrder2Kernel, WhiteKernel\nfrom pydygp.gaussian_process import MultioutGaussianProcessRegressor\nfrom scipy.integrate import odeint\n\nC = [0.5]\nD = [1.0]\nS = [1.0]\n\nA = np.array([[0., 1.],\n              [-D[0], -C[0]]])\n\ndef f(t):\n    z = (t - 2.5)/0.5\n    return np.exp(-.5*z**2)*(1-z**2)\n\ndef dXdt(X, t):\n    v = A.dot(X)\n    v[1] += S[0]*f(t)\n    return v\n\nttdense = np.linspace(0., 10., 100)\nsol = odeint(dXdt, [0., 0.], ttdense)\n\ntt = ttdense[1::10]\nY = sol[1::10, 0]\nvecY = Y.T.ravel()  # vectorisation of Y\n\nkernel = LFMOrder2Kernel(C=C, D=D, S=S)\nlfm = MultioutGaussianProcessRegressor(kernel)\n\n# Predicted value and std of y\nypred, ystd = lfm.predict(ttdense[:, None], return_std=True)\n\n# Cholesky decomp of Cov{y}\nCyy = lfm.kernel(tt[:, None])\nCyy[np.diag_indices_from(Cyy)] += lfm.alpha\nLyy = np.linalg.cholesky(Cyy)\n\nCyy_ = lfm.kernel(tt[:, None], Y=ttdense[:, None])\nCy_y_ = lfm.kernel(ttdense[:, None])\nypred = Cyy_.T.dot(cho_solve((Lyy, True), vecY))\n\nCyy_ = Cy_y_ - Cyy_.T.dot(cho_solve((Lyy, True), Cyy_))\nystd = np.sqrt(np.diag(Cyy_)+1e-5)\n\n# Covar {y, f}\nCyf = kernel.lf_crosscov(tt[:, None], ttdense[:, None])\nCff = RBF()(ttdense[:, None])\nCf_y = Cff - Cyf[..., 0, 0].T.dot(cho_solve((Lyy, True), Cyf[..., 0, 0]))\n\nfpred = Cyf[..., 0, 0].T.dot(cho_solve((Lyy, True), vecY))\nfstd = np.sqrt(np.diag(Cf_y))\n\nfig, ax = plt.subplots()\nax.fill_between(ttdense, ypred + ystd, ypred - ystd,\n                alpha=0.3)\nax.plot(ttdense, sol[:, 0], 'k-', alpha=0.2)\nax.plot(ttdense, ypred, '--')\nax.plot(tt, Y, 'o')\n\nax.annotate(r'$\\ddot{y} + \\dot{y} + \\frac{1}{2}y = f(t)$',\n            xy=(5.5, .3), fontsize=14)\nax.annotate(r'$f(t) \\sim \\mathcal{GP}(0, k_{RBF})$',\n            xy=(5.5, .2), fontsize=14)\n\nfig2, ax2 = plt.subplots()\nax2.plot(ttdense, f(ttdense), 'k-', alpha=0.2,\n         label=r'$f^*(t)$')\nax2.fill_between(ttdense, fpred + fstd, fpred - fstd,\n                 alpha=0.3)\nax2.plot(ttdense, fpred, '--',\n         label=r'$\\mathbb{E}[f(t)|y(t)]$')\nax2.legend(loc=3, fontsize=14)\nplt.show()"
      ]
    }
  ],
  "metadata": {
    "kernelspec": {
      "display_name": "Python 3",
      "language": "python",
      "name": "python3"
    },
    "language_info": {
      "codemirror_mode": {
        "name": "ipython",
        "version": 3
      },
      "file_extension": ".py",
      "mimetype": "text/x-python",
      "name": "python",
      "nbconvert_exporter": "python",
      "pygments_lexer": "ipython3",
      "version": "3.7.0"
    }
  },
  "nbformat": 4,
  "nbformat_minor": 0
}