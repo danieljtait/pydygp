{
  "cells": [
    {
      "cell_type": "code",
      "execution_count": null,
      "metadata": {
        "collapsed": false
      },
      "outputs": [],
      "source": [
        "%matplotlib inline"
      ]
    },
    {
      "cell_type": "markdown",
      "metadata": {},
      "source": [
        "\n\n\nSpecifying Priors\n=================\n\n.. currentmodule:: pydygp.linlatentforcemodels\n\nThis note provides more detail into the process of carrying out model fitting using\nthe MLFM model with the adaptive gradient matching process.\n\nAs usual we carry out the initial imports and construct some data, one interesting\nfeature of this example is that we are going\n\n\n"
      ]
    },
    {
      "cell_type": "code",
      "execution_count": null,
      "metadata": {
        "collapsed": false
      },
      "outputs": [],
      "source": [
        "import numpy as np\nimport matplotlib.pyplot as plt\nfrom pydygp.linlatentforcemodels import MLFMAdapGrad\nimport pydygp.liealgebras\nfrom sklearn.gaussian_process.kernels import RBF\nnp.random.seed(7)\nso3 = pydygp.liealgebras.so(3)\nlf_kernels = [RBF(), ]\nbeta = np.random.normal(size=6).reshape(2, 3)"
      ]
    },
    {
      "cell_type": "markdown",
      "metadata": {},
      "source": [
        "One interesting feature of this example is that we are going to simulate the\nmodel at a collection of different initial values with a common latent forces.\nWe chose our initial conditions to be uniformly distribution on te surface of\nthe sphere. \n\n"
      ]
    },
    {
      "cell_type": "code",
      "execution_count": null,
      "metadata": {
        "collapsed": false
      },
      "outputs": [],
      "source": [
        "nsim = 3\nx0 = np.random.normal(size=3*3).reshape(nsim, 3)\nx0 /= np.linalg.norm(x0, axis=1)[:, None]\n\nmlfm = MLFMAdapGrad(so3, R=1,\n                    lf_kernels=lf_kernels,\n                    is_beta_fixed=False)\n\n# Time points to simulate on\ntt = np.linspace(0., 5., 15)\nData, gtrue = mlfm.sim(x0, tt, beta, size=x0.shape[0])"
      ]
    },
    {
      "cell_type": "markdown",
      "metadata": {},
      "source": [
        "Holding Parameters Fixed\n~~~~~~~~~~~~~~~~~~~~~~~~\n\nThe naming convention used for accessing parameters of interest is\ntypically of the form ...\n\nFor example to fit the model holding `beta' fixed so we combine the above to\nproduce our model and then carry out the fit treating the noise parameters,\nand the $$\\log(\\gamma)$$ parameters fixed.\n\n"
      ]
    },
    {
      "cell_type": "code",
      "execution_count": null,
      "metadata": {
        "collapsed": false
      },
      "outputs": [],
      "source": [
        "# vectorise the data\nY = np.column_stack((data.T.ravel() for data in Data))\n\nfig, ax = plt.subplots()\nax.plot(tt, Data[0], 'k-', alpha=0.5)\n# corrupt Y with some iid noise\nY += np.random.normal(size=Y.size, scale=0.1).reshape(Y.shape)\nax.plot(tt, Y[:, 0].reshape((3, tt.size)).T, '+')\n\nmapres = mlfm.fit(tt, Y,\n                  logtau_is_fixed=False,\n                  beta0 = beta,\n                  beta_is_fixed=True)\n\nfrom pydygp.probabilitydistributions import ChiSquare\nlogtau_prior = ChiSquare(df=1).scaletransform(0.1**2)  # X/C ~ N(0., 0.1**2)\nlogtau_prior = logtau_prior.logtransform()\nlogtau_prior = logtau_prior.scaletransform(-1)\n\nq = ChiSquare(df=1).scaletransform(0.05**2)\nq = q.logtransform()\nq = q.scaletransform(-1)\n\nxx = np.linspace(3, 15, 100)\nfig, ax = plt.subplots()\nax.plot(xx, np.exp([logtau_prior.logpdf(x) for x in xx]), 'b--')\nax.plot(xx, np.exp([q.logpdf(x) for x in xx]), 'r--')\n\nlogtau_prior = logtau_prior * 3\n\nmapres2 = mlfm.fit(tt, Y,\n                   logtau_is_fixed=False,\n                   logtau_prior=logtau_prior,\n                   beta0 = beta,\n                   beta_is_fixed=True)\nprint(mapres.logtau)\nprint(mapres2.logtau)\n\nfig, ax = plt.subplots()\nax.plot(tt, gtrue[0](tt))\nax.plot(tt, mapres.g.ravel(), 's')\nax.plot(tt, mapres2.g.ravel(), 'o')\nplt.show()"
      ]
    }
  ],
  "metadata": {
    "kernelspec": {
      "display_name": "Python 3",
      "language": "python",
      "name": "python3"
    },
    "language_info": {
      "codemirror_mode": {
        "name": "ipython",
        "version": 3
      },
      "file_extension": ".py",
      "mimetype": "text/x-python",
      "name": "python",
      "nbconvert_exporter": "python",
      "pygments_lexer": "ipython3",
      "version": "3.7.0"
    }
  },
  "nbformat": 4,
  "nbformat_minor": 0
}