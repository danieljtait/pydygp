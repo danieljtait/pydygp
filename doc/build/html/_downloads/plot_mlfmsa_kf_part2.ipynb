{
  "cells": [
    {
      "cell_type": "code",
      "execution_count": null,
      "metadata": {
        "collapsed": false
      },
      "outputs": [],
      "source": [
        "%matplotlib inline"
      ]
    },
    {
      "cell_type": "markdown",
      "metadata": {},
      "source": [
        "\n\nRecovering the Latent Force\n===========================\n\nThe `previous note <tutorials-mlfmsa-motiv-part1>` demonstrated that it\nis possible to recover the latent by inverting the trajectories formed by\nthe operator evaluated at the known true values. This is obviously of\nlimited use and so in this note we will expand this construction to an\niterative procedure for estimating the unknown forces.\n\nWe set up the model and simulate the data exactly as was done previously\n\n\n"
      ]
    },
    {
      "cell_type": "code",
      "execution_count": null,
      "metadata": {
        "collapsed": false
      },
      "outputs": [],
      "source": [
        "import numpy as np\nfrom pydygp.liealgebras import so\nfrom sklearn.gaussian_process.kernels import RBF\nfrom pydygp.linlatentforcemodels import MLFMSA\n\nmlfm = MLFMSA(so(3), R=1, lf_kernels=[RBF(), ], order=10)\nbeta = np.array([[0.1, 0., 0.],\n                 [-0.5, 0.31, 0.11]])\nt1 = np.linspace(0., 5.5, 7)\nt2 = np.linspace(0., 5.5, 11)\nx0 = np.eye(3)\nY1, g = mlfm.sim(x0[0, :], t1, beta=beta)\nY2, _ = mlfm.sim(x0[1, :], t2, beta=beta, latent_forces=g)\n\nmlfm._setup_times([t1, t2], h=.25, multi_output=True)"
      ]
    },
    {
      "cell_type": "markdown",
      "metadata": {},
      "source": [
        "We now consider the iterative process for constructing an\nestimate of the latent force\n\n"
      ]
    },
    {
      "cell_type": "code",
      "execution_count": null,
      "metadata": {
        "collapsed": false
      },
      "outputs": [],
      "source": [
        "def g_em_fit(g, beta, ifx, mlfmsa):\n    P = mlfmsa._K(g, beta, ifix)\n\n    # get the data\n\n# data preprocessing\n\nmlfm.X_train_ = [t1, t2]\nmlfm.Y_train_ = [Y1, Y2]\n\nmu_ivp = mlfm.mu_ivp_init([0, 5, 9])"
      ]
    }
  ],
  "metadata": {
    "kernelspec": {
      "display_name": "Python 3",
      "language": "python",
      "name": "python3"
    },
    "language_info": {
      "codemirror_mode": {
        "name": "ipython",
        "version": 3
      },
      "file_extension": ".py",
      "mimetype": "text/x-python",
      "name": "python",
      "nbconvert_exporter": "python",
      "pygments_lexer": "ipython3",
      "version": "3.7.0"
    }
  },
  "nbformat": 4,
  "nbformat_minor": 0
}