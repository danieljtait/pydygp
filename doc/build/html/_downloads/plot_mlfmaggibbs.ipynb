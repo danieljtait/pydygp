{
  "cells": [
    {
      "cell_type": "code",
      "execution_count": null,
      "metadata": {
        "collapsed": false
      },
      "outputs": [],
      "source": [
        "%matplotlib inline"
      ]
    },
    {
      "cell_type": "markdown",
      "metadata": {},
      "source": [
        "\nGibbs Sampling\n==============\n\nThis example presents an illustration of the MLFM to learn the model\n\n\\begin{align}\\dot{\\mathbf{x}}(t)\\end{align}\n\nWe do the usual imports and generate some simulated data\n\n"
      ]
    },
    {
      "cell_type": "code",
      "execution_count": null,
      "metadata": {
        "collapsed": false
      },
      "outputs": [],
      "source": [
        "import numpy as np\nimport matplotlib.pyplot as plt\nfrom pydygp.probabilitydistributions import (Normal,\n                                             GeneralisedInverseGaussian,\n                                             InverseGamma)\nfrom sklearn.gaussian_process.kernels import RBF\nfrom pydygp.liealgebras import so\nfrom pydygp.linlatentforcemodels import GibbsMLFMAdapGrad\n\nnp.random.seed(15)\n\n\ngmlfm = GibbsMLFMAdapGrad(so(3), R=1, lf_kernels=(RBF(), ))\n\nbeta = np.row_stack(([0.]*3,\n                     np.random.normal(size=3)))\n\nx0 = np.eye(3)\n\n# Time points to solve the model at\ntt = np.linspace(0., 6., 9)\n\n# Data and true forces\nData, lf = gmlfm.sim(x0, tt, beta=beta, size=3)\n\n# vectorise and stack the data\nY = np.column_stack((y.T.ravel() for y in Data))\n\nlogpsi_prior = GeneralisedInverseGaussian(a=5, b=5, p=-1).logtransform()\nloggamma_prior = InverseGamma(a=0.001, b=0.001).logtransform() * gmlfm.dim.K\nbeta_prior = Normal(scale=1.) * beta.size\n\nfitopts = {'logpsi_is_fixed': True, 'logpsi_prior': logpsi_prior,\n           'loggamma_is_fixed': True,# 'loggamma_prior': loggamma_prior,\n           'beta_is_fixed': False, 'beta_prior': beta_prior,\n           'beta0': beta,\n           }\ngibbsRV = gmlfm.gibbsfit(tt, Y,\n                         sample=('g', 'x'),\n                         size=1000,\n                         **fitopts)\nmapres = gmlfm.fit(tt, Y, **fitopts)\n\nA = [sum(brd*Ld for brd, Ld in zip(br, gmlfm.basis_mats))\n     for br in beta]\n\naij = []\n\n_aa = 0.\n\nfor g in gibbsRV['g']:# in zip(gibbsRV['g']):#, gibbsRV['beta']):\n    _beta = mapres.beta #b.reshape((2, 3))\n    _A = [sum(brd*Ld for brd, Ld in zip(br, gmlfm.basis_mats))\n          for br in _beta]\n    aij.append(_A[0][0, 2] + _A[1][0, 2]*g)\n    _aa += gmlfm._component_functions(g, _beta)\naij = np.array(aij)\n\nprint(_beta)\n\n#print(np.mean(gibbsRV['beta'], axis=0))\n      \n_aa /= gibbsRV['g'].shape[0]\n\nfig, ax = plt.subplots()\nttd = np.linspace(0., tt[-1], 100)\nax.plot(ttd, A[0][0, 2] + A[1][0, 2]*lf[0](ttd), 'b-')\nax.plot(tt, aij.T, 'k+')\nax.plot(tt, np.mean(aij, axis=0), '+')\nax.plot(tt, _aa[0, 1, :], '-.')\n\nfig2, ax2 = plt.subplots()\nax2.plot(ttd, lf[0](ttd), 'k-')\nax2.plot(tt, np.mean(gibbsRV['g'], axis=0), '+')\nax2.plot(tt, mapres.g.T, 'o')\nax2.plot(tt, gibbsRV['g'].T, 'k+')\n\nfig3, ax3 = plt.subplots()\n#ax3.hist(gibbsRV['beta'][:, 2], density=True)\n\naaTrue = gmlfm._component_functions(lf[0](ttd), beta, N=ttd.size)\naaMap = gmlfm._component_functions(mapres.g.ravel(), mapres.beta)\n\nfig4, ax4 = plt.subplots()\nfor i, j in zip([0, 0, 1], [1, 2, 2]):\n    ax4.plot(tt, _aa[i, j, :], '+-',\n             label=r'$a{}{}$'.format(i, j))\n    ax4.plot(ttd, aaTrue[i, j, :], alpha=0.4)\n    ax4.plot(tt, aaMap[i, j, :], 's')\nax4.legend()\n\nxrv = gibbsRV['x']\n\nfor m in range(3):\n    fig, ax = plt.subplots()\n\n    xm = xrv[..., m].reshape(xrv.shape[0],\n                             gmlfm.dim.K,\n                             gmlfm.dim.N)\n\n\n    ax.plot(tt, xm[:, 2, :].T, 'k+')\n    ax.plot(tt, Data[m], 's')\n\n\nfrom scipy.interpolate import interp1d\nu = interp1d(tt, mapres.g.ravel(), kind='cubic', fill_value='extrapolate')\n\nfor m, x0m in enumerate(x0):\n    \n    sol, _ = gmlfm.sim(x0m, ttd, beta=mapres.beta, latent_forces=(u, ))\n\n    fig, ax = plt.subplots()\n    ax.plot(ttd, sol, 'k-')\n    ax.plot(tt, Data[m], 's')\n    \nplt.show()"
      ]
    }
  ],
  "metadata": {
    "kernelspec": {
      "display_name": "Python 3",
      "language": "python",
      "name": "python3"
    },
    "language_info": {
      "codemirror_mode": {
        "name": "ipython",
        "version": 3
      },
      "file_extension": ".py",
      "mimetype": "text/x-python",
      "name": "python",
      "nbconvert_exporter": "python",
      "pygments_lexer": "ipython3",
      "version": "3.7.0"
    }
  },
  "nbformat": 4,
  "nbformat_minor": 0
}