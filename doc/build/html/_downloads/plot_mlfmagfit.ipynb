{
  "cells": [
    {
      "cell_type": "code",
      "execution_count": null,
      "metadata": {
        "collapsed": false
      },
      "outputs": [],
      "source": [
        "%matplotlib inline"
      ]
    },
    {
      "cell_type": "markdown",
      "metadata": {},
      "source": [
        "\n\nMLFM-AG Model Fitting\n=====================\n\n.. currentmodule:: pydygp.linlatentforcemodels\n\nThis note decribes how to carry out the porcess of carrying out MAP parameter\nestimation for the MLFM model using the Adaptive Gradient matching approximation\n:class:`MLFMAdapGrad` \n\n"
      ]
    },
    {
      "cell_type": "code",
      "execution_count": null,
      "metadata": {
        "collapsed": false
      },
      "outputs": [],
      "source": [
        "import numpy as np\nimport matplotlib.pyplot as plt\nfrom pydygp.linlatentforcemodels import MLFMAdapGrad"
      ]
    },
    {
      "cell_type": "markdown",
      "metadata": {},
      "source": [
        "Model Setup\n~~~~~~~~~~~\nWe are going to demonstrate using the example we have already described in\n`tutorials-mlfm-sim` and the steps described there for setting up\nthis model and simulating some data. The model was a simple ODE on the unit\ncircle\n\n\\begin{align}S^1 = \\{ x \\in \\mathbb{R}^2 \\; : \\; \\| x \\| = 1 \\},\\end{align}\n\nWe can write a linear ode on $S^1$ as\n\n\\begin{align}\\begin{bmatrix} \\dot{x}(t) \\\\ \\dot{y}(t) \\end{bmatrix}\n   = \\begin{bmatrix} 0 & -1 \\\\ 1 & 0 \\end{bmatrix}\n     \\begin{bmatrix} x(t) \\\\ y(t) \\end{bmatrix}.\\end{align}\n\nWe can set up this model by and simulate some observations by\n\n\n"
      ]
    },
    {
      "cell_type": "code",
      "execution_count": null,
      "metadata": {
        "collapsed": false
      },
      "outputs": [],
      "source": [
        "import pydygp.liealgebras\n\nnp.random.seed(7)  # seed for reproducability\n\nso2 = pydygp.liealgebras.so(2)  # import the Lie algebra\nmlfm = MLFMAdapGrad(so2, R=1)   # Build the model with 0 offset matrix\n\ntt = np.linspace(0., 5., 11)    # time data points\nY, gtrue = mlfm.sim([1., 0], tt)    # Simulation result"
      ]
    },
    {
      "cell_type": "markdown",
      "metadata": {},
      "source": [
        "Model Fit\n~~~~~~~~~\nThe API is designed to be as simple as possible and so for simple enough\nmodels we should get reasonable results by simply calling\n\n"
      ]
    },
    {
      "cell_type": "code",
      "execution_count": null,
      "metadata": {
        "collapsed": false
      },
      "outputs": [],
      "source": [
        "res0 = mlfm.fit(tt, Y)"
      ]
    },
    {
      "cell_type": "markdown",
      "metadata": {},
      "source": [
        "this returns a simple :class:`namedtuple` object which has attributes with\nnames corresponding to the parameters described in\n`tutorials-index-mlfmag-par`. We can compare the point estimates with\nthe true latent force functions\n\n"
      ]
    },
    {
      "cell_type": "code",
      "execution_count": null,
      "metadata": {
        "collapsed": false
      },
      "outputs": [],
      "source": [
        "ttdense = np.linspace(tt[0], tt[-1], 21)  # make a set of dense times\nfig0, ax = plt.subplots()\nax.plot(ttdense, gtrue[0](ttdense), 'k-', alpha=0.5)\nax.plot(tt, res0.g.T, '+')"
      ]
    },
    {
      "cell_type": "markdown",
      "metadata": {},
      "source": [
        "Sample Density Dependenance\n~~~~~~~~~~~~~~~~~~~~~~~~~~~\nThe adaptive gradient matching processes depend on the use of GP\ninterpolators of the unknown state trajectories, and therefore\nwe might expect the accuracy of these methods to decrease not with the\nsample size but with the space between samples.\n\nDense Predictions\n~~~~~~~~~~~~~~~~~\n\n"
      ]
    },
    {
      "cell_type": "code",
      "execution_count": null,
      "metadata": {
        "collapsed": false
      },
      "outputs": [],
      "source": [
        "mlfm2 = MLFMAdapGrad(so2, R=1)\ndata_inds = np.linspace(0, ttdense.size-1, tt.size, dtype=np.intp)\nmlfm2._setup_times(tt, tt_aug=ttdense, data_inds=data_inds)\nres_dense = mlfm2.fit(tt, Y, logpsi_is_fixed=True)\n\nfig, ax = plt.subplots()\nss = np.linspace(tt[0], tt[-1])\nax.plot(ss, gtrue[0](ss), 'k-', alpha=0.2)\nax.plot(mlfm.ttc, res0.g.T, '+')\nax.plot(mlfm2.ttc, res_dense.g.T, 'o')\n\nplt.show()"
      ]
    }
  ],
  "metadata": {
    "kernelspec": {
      "display_name": "Python 3",
      "language": "python",
      "name": "python3"
    },
    "language_info": {
      "codemirror_mode": {
        "name": "ipython",
        "version": 3
      },
      "file_extension": ".py",
      "mimetype": "text/x-python",
      "name": "python",
      "nbconvert_exporter": "python",
      "pygments_lexer": "ipython3",
      "version": "3.7.0"
    }
  },
  "nbformat": 4,
  "nbformat_minor": 0
}