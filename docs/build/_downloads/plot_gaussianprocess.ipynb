{
  "cells": [
    {
      "cell_type": "code",
      "execution_count": null,
      "metadata": {
        "collapsed": false
      },
      "outputs": [],
      "source": [
        "%matplotlib inline"
      ]
    },
    {
      "cell_type": "markdown",
      "metadata": {},
      "source": [
        "\nSimulate and Fit a Gaussian Process\n===================================\n\n.. currentmodule:: pydygp.gaussianprocesses\n\nA simple example of initalising a :class:`GaussianProcess`, simulating some observations\nand then returning the predicted mean and covariance.\n\n\n"
      ]
    },
    {
      "cell_type": "code",
      "execution_count": null,
      "metadata": {
        "collapsed": false
      },
      "outputs": [],
      "source": [
        "import numpy as np\nfrom pydygp.gaussianprocesses import GaussianProcess\nimport matplotlib.pyplot as plt\n\nnp.random.seed(15)\n\ndef main():\n    x = np.linspace(0., 2*np.pi, 7)\n\n    # Initalise a GP with the square exponential kernel\n    gp = GaussianProcess('sqexp')\n\n    # simulate some observations\n    y = gp.sim(x[:, None])\n\n    gp.fit(x[:, None], y)\n\n    # Dense sample of x\n    xd = np.linspace(x[0], x[-1], 100)\n\n    mean, cov = gp.pred(xd[:, None], return_covar=True)\n    sd = np.sqrt(np.diag(cov))\n\n    plt.figure()\n    plt.fill_between(xd, mean - 2*sd, mean + 2*sd, alpha=0.2)\n    plt.plot(xd, mean, '-r')\n    plt.plot(x, y, 'ko')\n    plt.show()\n\nif __name__ == '__main__':\n    main()"
      ]
    }
  ],
  "metadata": {
    "kernelspec": {
      "display_name": "Python 3",
      "language": "python",
      "name": "python3"
    },
    "language_info": {
      "codemirror_mode": {
        "name": "ipython",
        "version": 3
      },
      "file_extension": ".py",
      "mimetype": "text/x-python",
      "name": "python",
      "nbconvert_exporter": "python",
      "pygments_lexer": "ipython3",
      "version": "3.6.5"
    }
  },
  "nbformat": 4,
  "nbformat_minor": 0
}