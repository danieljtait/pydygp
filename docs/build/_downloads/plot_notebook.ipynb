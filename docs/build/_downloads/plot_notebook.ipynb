{
  "cells": [
    {
      "cell_type": "code",
      "execution_count": null,
      "metadata": {
        "collapsed": false
      },
      "outputs": [],
      "source": [
        "%matplotlib inline"
      ]
    },
    {
      "cell_type": "markdown",
      "metadata": {},
      "source": [
        "\nNotebook styled examples\n========================\n\nThe gallery is capable of transforming Python files into reStructuredText files\nwith a notebook structure. For this to be used you need to respect some syntax\nrules.\n\nIt makes a lot of sense to contrast this output rst file with the\n:download:`original Python script <plot_notebook.py>` to get better feeling of\nthe necessary file structure.\n\nAnything before the Python script docstring is ignored by sphinx-gallery and\nwill not appear in the rst file, nor will it be executed.\nThis Python docstring requires an reStructuredText title to name the file and\ncorrectly build the reference links.\n\nOnce you close the docstring you would be writing Python code. This code gets\nexecuted by sphinx gallery shows the plots and attaches the generating code.\nNevertheless you can break your code into blocks and give the rendered file\na notebook style. In this case you have to include a code comment breaker\na line of at least 20 hashes and then every comment start with the a new hash.\n\nAs in this example we start by first writing this module\nstyle docstring, then for the first code block we write the example file author\nand script license continued by the import modules instructions.\n\n"
      ]
    },
    {
      "cell_type": "code",
      "execution_count": null,
      "metadata": {
        "collapsed": false
      },
      "outputs": [],
      "source": [
        "# Code source: \u00d3scar N\u00e1jera\n# License: BSD 3 clause\n\nimport numpy as np\nimport matplotlib.pyplot as plt"
      ]
    },
    {
      "cell_type": "markdown",
      "metadata": {},
      "source": [
        "This code block is executed, although it produces no output. Lines starting\nwith a simple hash are code comment and get treated as part of the code\nblock. To include this new comment string we started the new block with a\nlong line of hashes.\n\nThe sphinx-gallery parser will assume everything after this splitter and that\ncontinues to start with a **comment hash and space** (respecting code style)\nis text that has to be rendered in\nhtml format. Keep in mind to always keep your comments always together by\ncomment hashes. That means to break a paragraph you still need to commend\nthat line break.\n\nIn this example the next block of code produces some plotable data. Code is\nexecuted, figure is saved and then code is presented next, followed by the\ninlined figure.\n\n"
      ]
    },
    {
      "cell_type": "code",
      "execution_count": null,
      "metadata": {
        "collapsed": false
      },
      "outputs": [],
      "source": [
        "x = np.linspace(-np.pi, np.pi, 300)\nxx, yy = np.meshgrid(x, x)\nz = np.cos(xx) + np.cos(yy)\n\nplt.figure()\nplt.imshow(z)\nplt.colorbar()\nplt.xlabel('$x$')\nplt.ylabel('$y$')"
      ]
    },
    {
      "cell_type": "markdown",
      "metadata": {},
      "source": [
        "Again it is possble to continue the discussion with a new Python string. This\ntime to introduce the next code block generates 2 separate figures.\n\n"
      ]
    },
    {
      "cell_type": "code",
      "execution_count": null,
      "metadata": {
        "collapsed": false
      },
      "outputs": [],
      "source": [
        "plt.figure()\nplt.imshow(z, cmap=plt.cm.get_cmap('hot'))\nplt.figure()\nplt.imshow(z, cmap=plt.cm.get_cmap('Spectral'), interpolation='none')"
      ]
    },
    {
      "cell_type": "markdown",
      "metadata": {},
      "source": [
        "There's some subtle differences between rendered html rendered comment\nstrings and code comment strings which I'll demonstrate below. (Some of this\nonly makes sense if you look at the\n:download:`raw Python script <plot_notebook.py>`)\n\nComments in comment blocks remain nested in the text.\n\n"
      ]
    },
    {
      "cell_type": "code",
      "execution_count": null,
      "metadata": {
        "collapsed": false
      },
      "outputs": [],
      "source": [
        "def dummy():\n    \"\"\"Dummy function to make sure docstrings don't get rendered as text\"\"\"\n    pass\n\n# Code comments not preceded by the hash splitter are left in code blocks.\n\nstring = \"\"\"\nTriple-quoted string which tries to break parser but doesn't.\n\"\"\""
      ]
    },
    {
      "cell_type": "markdown",
      "metadata": {},
      "source": [
        "Output of the script is captured:\n\n"
      ]
    },
    {
      "cell_type": "code",
      "execution_count": null,
      "metadata": {
        "collapsed": false
      },
      "outputs": [],
      "source": [
        "print('Some output from Python')"
      ]
    },
    {
      "cell_type": "markdown",
      "metadata": {},
      "source": [
        "Finally, I'll call ``show`` at the end just so someone running the Python\ncode directly will see the plots; this is not necessary for creating the docs\n\n"
      ]
    },
    {
      "cell_type": "code",
      "execution_count": null,
      "metadata": {
        "collapsed": false
      },
      "outputs": [],
      "source": [
        "plt.show()"
      ]
    },
    {
      "cell_type": "markdown",
      "metadata": {},
      "source": [
        "You can also include $math$ inline, or as separate equations:\n\n\\begin{align}\\exp(j\\pi) = -1\\end{align}\n\nYou can also insert images:\n\n![Sphinx header](http://www.sphinx-doc.org/en/stable/_static/sphinxheader.png)\n\n"
      ]
    }
  ],
  "metadata": {
    "kernelspec": {
      "display_name": "Python 3",
      "language": "python",
      "name": "python3"
    },
    "language_info": {
      "codemirror_mode": {
        "name": "ipython",
        "version": 3
      },
      "file_extension": ".py",
      "mimetype": "text/x-python",
      "name": "python",
      "nbconvert_exporter": "python",
      "pygments_lexer": "ipython3",
      "version": "3.6.5"
    }
  },
  "nbformat": 4,
  "nbformat_minor": 0
}