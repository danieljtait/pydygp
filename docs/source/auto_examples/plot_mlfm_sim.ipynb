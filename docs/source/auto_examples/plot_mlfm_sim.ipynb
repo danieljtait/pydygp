{
  "cells": [
    {
      "cell_type": "code",
      "execution_count": null,
      "metadata": {
        "collapsed": false
      },
      "outputs": [],
      "source": [
        "%matplotlib inline"
      ]
    },
    {
      "cell_type": "markdown",
      "metadata": {},
      "source": [
        "\nSimulating the MLFM\n===================\n\nSimulates the model\n\n   .. math::\n\n      \\dot{\\mathbf{x}(t)} = \\left(\\mathbf{L}_x + \\mathbf{L}_y g_1(t) + \\mathbf{L}_z g_2(t) \\right)\\mathbf{x}(t)\n\nwhere $g_1(t)$ and $g_2(t)$ are independent Gaussian processes, and $\\mathbf{L}_i$ are the\nstandard basis of the Lie algebra $\\mathfrak{so}(3)$ of the rotation group $SO(3)$.\n\n"
      ]
    },
    {
      "cell_type": "code",
      "execution_count": null,
      "metadata": {
        "collapsed": false
      },
      "outputs": [],
      "source": [
        "from mpl_toolkits.basemap import Basemap\nimport matplotlib.pyplot as plt\nimport numpy as np\nfrom pydygp.gaussianprocesses import GaussianProcess\nfrom pydygp.linlatentforcemodels import MLFM\n\n# cart to spherical coord\n# utility function\ndef cart2sph(x, y, z):\n    hxy = np.hypot(x, y)\n    r = np.hypot(hxy, z)\n    el = np.arctan2(z, hxy)\n    az = np.arctan2(y, x)\n    return az, el, r\n\ndef main():\n\n    np.random.seed(122)    \n\n    # infinitesimal rotation matrices in so(3)\n    Lx = np.array([[0., 0., 0.],\n                   [0., 0.,-1.],\n                   [0., 1., 0.]])\n\n    Ly = np.array([[ 0., 0., 1.],\n                   [ 0., 0., 0.],\n                   [-1., 0., 0.]])\n\n    Lz = np.array([[ 0.,-1., 0.],\n                   [ 1., 0., 0.],\n                   [ 0., 0., 0.]])\n\n    # make the basic mlfm model\n    mlfm = MLFM([Lx, Ly, Lz])\n\n    # latent force gaussian processes\n    g_gps = [GaussianProcess('sqexp', kpar=[1., 1.])\n             for r in range(len(mlfm.struct_mats)-1)]\n\n    # simulate some data \n    T = 4.\n    Nd = 7\n    \n    tt = np.linspace(0., T, Nd)\n\n    # dense set of times for solving the ODE\n    tt_d = np.linspace(0., T, 100)\n\n    # set of times for simulating the latent trajectory\n    tt_gp_sim = np.linspace(tt[0], tt[-1], 25)\n\n    y, y_dense, g, _ = mlfm.sim([0., 0., 1.],\n                                tt,\n                                gps=g_gps,\n                                tt_dense=tt_d,\n                                tt_gp_sim=tt_gp_sim,\n                                return_gp=True)    \n\n    # plot colors\n    fill_col = '#AED9DA'\n    linecol = '#DF6E21'\n    \n    # set up orthographic map projection with\n    # perspective of satellite looking down at 30N, 70W.\n    map = Basemap(projection='ortho',lat_0=30,lon_0=-70,resolution='l')\n\n    # draw lat/lon grid lines every 30 degrees.\n    map.drawmeridians(np.arange(0,360,30))\n    map.drawparallels(np.arange(-90,90,30))\n\n    az, el, _ = cart2sph(*y_dense.T)\n    az_, el_, _ = cart2sph(*y.T)\n\n    lons = np.rad2deg(az)\n    lats = np.rad2deg(el)\n\n    # set up orthographic map projection with\n    # perspective of satellite looking down at 30N, 70W.\n    map = Basemap(projection='ortho',lat_0=30,lon_0=-70,resolution='l')\n\n    # compute native map projection coordinates of lat/lon grid.\n    Px_d, Py_d = map(lons, lats)\n    P_x, P_y = map(np.rad2deg(az_), np.rad2deg(el_))\n\n    # contour data over the map.\n    map.plot(Px_d, Py_d, color=linecol)\n    map.scatter(P_x, P_y, color=linecol)\n\n    # draw the edge of the map projection region (the projection limb)\n    map.drawmapboundary(fill_color=fill_col)\n    plt.show()\n\nif __name__ == '__main__':\n    main()"
      ]
    }
  ],
  "metadata": {
    "kernelspec": {
      "display_name": "Python 3",
      "language": "python",
      "name": "python3"
    },
    "language_info": {
      "codemirror_mode": {
        "name": "ipython",
        "version": 3
      },
      "file_extension": ".py",
      "mimetype": "text/x-python",
      "name": "python",
      "nbconvert_exporter": "python",
      "pygments_lexer": "ipython3",
      "version": "3.6.5"
    }
  },
  "nbformat": 4,
  "nbformat_minor": 0
}