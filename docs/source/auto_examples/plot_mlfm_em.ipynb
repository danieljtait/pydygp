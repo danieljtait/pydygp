{
  "cells": [
    {
      "cell_type": "code",
      "execution_count": null,
      "metadata": {
        "collapsed": false
      },
      "outputs": [],
      "source": [
        "%matplotlib inline"
      ]
    },
    {
      "cell_type": "markdown",
      "metadata": {},
      "source": [
        "\nEM Fit of the MLFM\n==================\n\nUses the EM algorithm to fit estimates of the latent forces for the model\n\n   .. math::\n\n      \\dot{\\mathbf{x}(t)} = \\left(\\mathbf{L}_x + \\mathbf{L}_y g_1(t) + \\mathbf{L}_z g_2(t) \\right)\\mathbf{x}(t)\n\nwhere $g_1(t)$ and $g_2(t)$ are independent Gaussian processes, and $\\mathbf{L}_i$ are the\nstandard basis of the Lie algebra $\\mathfrak{so}(3)$ of the rotation group $SO(3)$.\n\n"
      ]
    },
    {
      "cell_type": "code",
      "execution_count": null,
      "metadata": {
        "collapsed": false
      },
      "outputs": [],
      "source": [
        "import numpy as np\nimport matplotlib.pyplot as plt\nfrom scipy.linalg import block_diag\nfrom pydygp.gaussianprocesses import GaussianProcess\nfrom pydygp.linlatentforcemodels import MLFM\n\ndef main():\n\n    np.random.seed(122)\n\n    # infinitesimal rotation matrices in so(3)\n    Lx = np.array([[0., 0., 0.],\n                   [0., 0.,-1.],\n                   [0., 1., 0.]])\n\n    Ly = np.array([[ 0., 0., 1.],\n                   [ 0., 0., 0.],\n                   [-1., 0., 0.]])\n\n    Lz = np.array([[ 0.,-1., 0.],\n                   [ 1., 0., 0.],\n                   [ 0., 0., 0.]])\n\n    # make the basic mlfm model\n    mlfm = MLFM.ns([Lx, Ly, Lz], order=1)\n\n    # latent force gaussian processes\n    g_gps = [GaussianProcess('sqexp', kpar=[1., 1.])\n             for r in range(len(mlfm.struct_mats)-1)]\n\n    # simulate some data \n    T = 4.\n    Nd = 10\n    \n    tt = np.linspace(0., T, Nd)\n\n    # dense set of times for solving the ODE\n    tt_d = np.linspace(0., T, 100)\n\n    # set of times for simulating the latent trajectory\n    tt_gp_sim = np.linspace(tt[0], tt[-1], 25)\n\n    y, y_dense, g, _ = mlfm.sim([0., 0., 1.],\n                                tt,\n                                gps=g_gps,\n                                tt_dense=tt_d,\n                                tt_gp_sim=tt_gp_sim,\n                                return_gp=True)    \n\n    # inital gaussian process approx\n    #  - ind. gps, for each dimension\n    x0_gps = [GaussianProcess('sqexp', kpar=[1., .25]) for k in range(3)]\n\n    fig = plt.figure()\n    ax1 = plt.subplot2grid((1, 2), (0, 0), colspan=1)\n    ax2 = plt.subplot2grid((1, 2), (0, 1), colspan=1)\n\n    Mmax = 10\n    for M in [1, 3, 5, 10]:\n\n        # reduced inds\n        red_ind = np.linspace(0, tt.size-1, Nd, dtype=np.intp)\n        red_tt = tt[red_ind]\n        red_y = y[red_ind, :]\n\n        mlfm.order = M\n\n        # sets up the em fit\n        mlfm.em_fit(red_tt,\n                    red_y.T.ravel(),\n                    x0_gps=x0_gps, g_gps=g_gps,\n                    ifix=Nd//2-1,\n                    h=None)\n        \n        mlfm.em.cov_setup()\n\n        ghat = mlfm.em.fit(liktol=5e-2, max_nt=1000).reshape(mlfm.em.dim.R, mlfm.em.dim.N)\n        ax1.plot(mlfm.em.comp_times, ghat.T[:, 0], 'b+', alpha=M/Mmax,\n                 label='{}'.format(M))\n        ax2.plot(mlfm.em.comp_times, ghat.T[:, 1], 'b+', alpha=M/Mmax,\n                 label='{}'.format(M))\n\n\n    ax1.plot(tt_d, g[:, 0], 'k-.', alpha=0.5, label=r'$g_1(t)$')\n    ax2.plot(tt_d, g[:, 1], 'k-.', alpha=0.5, label=r'$g_2(t)$')\n\n    ax1.legend()\n    ax2.legend()\n\n    plt.tight_layout()\n\n    plt.show()\n\nif __name__ == '__main__':\n    main()"
      ]
    }
  ],
  "metadata": {
    "kernelspec": {
      "display_name": "Python 3",
      "language": "python",
      "name": "python3"
    },
    "language_info": {
      "codemirror_mode": {
        "name": "ipython",
        "version": 3
      },
      "file_extension": ".py",
      "mimetype": "text/x-python",
      "name": "python",
      "nbconvert_exporter": "python",
      "pygments_lexer": "ipython3",
      "version": "3.6.5"
    }
  },
  "nbformat": 4,
  "nbformat_minor": 0
}