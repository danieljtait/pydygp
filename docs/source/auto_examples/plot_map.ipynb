{
  "cells": [
    {
      "cell_type": "code",
      "execution_count": null,
      "metadata": {
        "collapsed": false
      },
      "outputs": [],
      "source": [
        "%matplotlib inline"
      ]
    },
    {
      "cell_type": "markdown",
      "metadata": {},
      "source": [
        "\nExample using Basemap\n=====================\nQuick test to see if basemap works on read the docs.\n\n"
      ]
    },
    {
      "cell_type": "code",
      "execution_count": null,
      "metadata": {
        "collapsed": false
      },
      "outputs": [],
      "source": [
        "from mpl_toolkits.basemap import Basemap\nimport matplotlib.pyplot as plt\nimport numpy as np\n# set up orthographic map projection with\n# perspective of satellite looking down at 50N, 100W.\n# use low resolution coastlines.\nmap = Basemap(projection='ortho',lat_0=45,lon_0=-100,resolution='l')\n# draw coastlines, country boundaries, fill continents.\nmap.drawcoastlines(linewidth=0.25)\nmap.drawcountries(linewidth=0.25)\nmap.fillcontinents(color='coral',lake_color='aqua')\n# draw the edge of the map projection region (the projection limb)\nmap.drawmapboundary(fill_color='aqua')\n# draw lat/lon grid lines every 30 degrees.\nmap.drawmeridians(np.arange(0,360,30))\nmap.drawparallels(np.arange(-90,90,30))\n# make up some data on a regular lat/lon grid.\nnlats = 73; nlons = 145; delta = 2.*np.pi/(nlons-1)\nlats = (0.5*np.pi-delta*np.indices((nlats,nlons))[0,:,:])\nlons = (delta*np.indices((nlats,nlons))[1,:,:])\nwave = 0.75*(np.sin(2.*lats)**8*np.cos(4.*lons))\nmean = 0.5*np.cos(2.*lats)*((np.sin(2.*lats))**2 + 2.)\n# compute native map projection coordinates of lat/lon grid.\nx, y = map(lons*180./np.pi, lats*180./np.pi)\n# contour data over the map.\ncs = map.contour(x,y,wave+mean,15,linewidths=1.5)\nplt.title('contour lines over filled continent background')\nplt.show()"
      ]
    }
  ],
  "metadata": {
    "kernelspec": {
      "display_name": "Python 3",
      "language": "python",
      "name": "python3"
    },
    "language_info": {
      "codemirror_mode": {
        "name": "ipython",
        "version": 3
      },
      "file_extension": ".py",
      "mimetype": "text/x-python",
      "name": "python",
      "nbconvert_exporter": "python",
      "pygments_lexer": "ipython3",
      "version": "3.6.5"
    }
  },
  "nbformat": 4,
  "nbformat_minor": 0
}